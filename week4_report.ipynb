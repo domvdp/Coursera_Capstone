{
 "cells": [
  {
   "cell_type": "markdown",
   "metadata": {},
   "source": [
    "# Capstone Project - IBM Data Science by Coursera"
   ]
  },
  {
   "cell_type": "markdown",
   "metadata": {},
   "source": [
    "## Battle of the Neighbourhoods: London Crime Rates"
   ]
  },
  {
   "cell_type": "markdown",
   "metadata": {},
   "source": [
    "---"
   ]
  },
  {
   "cell_type": "markdown",
   "metadata": {},
   "source": [
    "## Introduction: Business Problem"
   ]
  },
  {
   "cell_type": "markdown",
   "metadata": {},
   "source": [
    "How do you go about choosing where you want to live? Well, if you are raising a family, then one of the most important considerations may be based on how **safe** the area is. With that in mind, this report aims to identify, by means of k-mean clustering, the safest borough in **London** according to the total number of documented crimes. \n",
    "\n",
    "This report will then explore the 10 most common venues within each neighbourhood of the safest borough, with the ultimate aim of assisting an individual in the selection of a suitable neighbourhood for raising a family."
   ]
  },
  {
   "cell_type": "markdown",
   "metadata": {},
   "source": [
    "## Data"
   ]
  },
  {
   "cell_type": "markdown",
   "metadata": {},
   "source": [
    "This project will extract data from 2 different sources, Kaggle and Wikipedia, while also making use of Foursquare and Google Maps for locational data. \n",
    "\n",
    "- __Kaggle:__ London crimes [Data](https://www.kaggle.com/jboysen/london-crime) from 2008 to 2016, detailing the statistics of crime within each borough of London.\n",
    "\n",
    "\n",
    "- __Wikipedia:__ Additional [Data](https://en.wikipedia.org/wiki/List_of_London_boroughs) related to the different boroughs in London. \n",
    "\n",
    "\n",
    "- __Foursquare:__ Using to provide locational details of each venue within each neighbourhood.\n",
    "\n",
    "\n",
    "- __Google Maps:__ Using API geoencoding to obtain neighbourhood coordinates.\n"
   ]
  },
  {
   "cell_type": "code",
   "execution_count": null,
   "metadata": {},
   "outputs": [],
   "source": []
  }
 ],
 "metadata": {
  "kernelspec": {
   "display_name": "Python 3",
   "language": "python",
   "name": "python3"
  },
  "language_info": {
   "codemirror_mode": {
    "name": "ipython",
    "version": 3
   },
   "file_extension": ".py",
   "mimetype": "text/x-python",
   "name": "python",
   "nbconvert_exporter": "python",
   "pygments_lexer": "ipython3",
   "version": "3.7.4"
  }
 },
 "nbformat": 4,
 "nbformat_minor": 2
}
